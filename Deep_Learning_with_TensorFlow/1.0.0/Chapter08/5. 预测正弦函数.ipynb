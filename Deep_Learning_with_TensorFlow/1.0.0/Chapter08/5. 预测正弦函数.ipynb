{
 "cells": [
  {
   "cell_type": "code",
   "execution_count": 1,
   "metadata": {
    "collapsed": true
   },
   "outputs": [],
   "source": [
    "import numpy as np\n",
    "import tensorflow as tf\n",
    "from tensorflow.contrib.learn.python.learn.estimators.estimator import SKCompat\n",
    "from tensorflow.python.ops import array_ops as array_ops_\n",
    "import matplotlib.pyplot as plt\n",
    "learn = tf.contrib.learn"
   ]
  },
  {
   "cell_type": "markdown",
   "metadata": {},
   "source": [
    "#### 1. 设置神经网络的参数。"
   ]
  },
  {
   "cell_type": "code",
   "execution_count": 2,
   "metadata": {
    "collapsed": true
   },
   "outputs": [],
   "source": [
    "HIDDEN_SIZE = 30\n",
    "NUM_LAYERS = 2\n",
    "\n",
    "TIMESTEPS = 10\n",
    "TRAINING_STEPS = 3000\n",
    "BATCH_SIZE = 32\n",
    "\n",
    "TRAINING_EXAMPLES = 10000\n",
    "TESTING_EXAMPLES = 1000\n",
    "SAMPLE_GAP = 0.01"
   ]
  },
  {
   "cell_type": "markdown",
   "metadata": {},
   "source": [
    "#### 2. 定义生成正弦数据的函数。"
   ]
  },
  {
   "cell_type": "code",
   "execution_count": 3,
   "metadata": {
    "collapsed": true
   },
   "outputs": [],
   "source": [
    "def generate_data(seq):\n",
    "    X = []\n",
    "    y = []\n",
    "\n",
    "    for i in range(len(seq) - TIMESTEPS - 1):\n",
    "        X.append([seq[i: i + TIMESTEPS]])\n",
    "        y.append([seq[i + TIMESTEPS]])\n",
    "    return np.array(X, dtype=np.float32), np.array(y, dtype=np.float32)"
   ]
  },
  {
   "cell_type": "markdown",
   "metadata": {},
   "source": [
    "#### 3. 定义lstm模型。"
   ]
  },
  {
   "cell_type": "code",
   "execution_count": 4,
   "metadata": {
    "collapsed": false
   },
   "outputs": [],
   "source": [
    "def lstm_model(X, y):\n",
    "    lstm_cell = tf.contrib.rnn.BasicLSTMCell(HIDDEN_SIZE, state_is_tuple=True)\n",
    "    cell = tf.contrib.rnn.MultiRNNCell([lstm_cell])\n",
    "    \n",
    "    output, _ = tf.nn.dynamic_rnn(cell, X, dtype=tf.float32)\n",
    "    output = tf.reshape(output, [-1, HIDDEN_SIZE])\n",
    "    \n",
    "    # 通过无激活函数的全联接层计算线性回归，并将数据压缩成一维数组的结构。\n",
    "    predictions = tf.contrib.layers.fully_connected(output, 1, None)\n",
    "    \n",
    "    # 将predictions和labels调整统一的shape\n",
    "    labels = tf.reshape(y, [-1])\n",
    "    predictions=tf.reshape(predictions, [-1])\n",
    "    \n",
    "    loss = tf.losses.mean_squared_error(predictions, labels)\n",
    "    \n",
    "    train_op = tf.contrib.layers.optimize_loss(\n",
    "        loss, tf.contrib.framework.get_global_step(),\n",
    "        optimizer=\"Adagrad\", learning_rate=0.1)\n",
    "\n",
    "    return predictions, loss, train_op"
   ]
  },
  {
   "cell_type": "markdown",
   "metadata": {},
   "source": [
    "#### 4. 进行训练。"
   ]
  },
  {
   "cell_type": "code",
   "execution_count": 5,
   "metadata": {
    "collapsed": false
   },
   "outputs": [
    {
     "name": "stdout",
     "output_type": "stream",
     "text": [
      "INFO:tensorflow:Using default config.\n",
      "INFO:tensorflow:Using config: {'_save_checkpoints_secs': 600, '_num_ps_replicas': 0, '_keep_checkpoint_max': 5, '_tf_random_seed': None, '_task_type': None, '_environment': 'local', '_is_chief': True, '_cluster_spec': <tensorflow.python.training.server_lib.ClusterSpec object at 0x11a5590d0>, '_tf_config': gpu_options {\n",
      "  per_process_gpu_memory_fraction: 1\n",
      "}\n",
      ", '_task_id': 0, '_save_summary_steps': 100, '_save_checkpoints_steps': None, '_evaluation_master': '', '_keep_checkpoint_every_n_hours': 10000, '_master': ''}\n",
      "INFO:tensorflow:Create CheckpointSaverHook.\n",
      "INFO:tensorflow:Saving checkpoints for 1 into Models/model_2/model.ckpt.\n",
      "INFO:tensorflow:loss = 0.491647, step = 1\n",
      "INFO:tensorflow:global_step/sec: 188.742\n",
      "INFO:tensorflow:loss = 0.00536189, step = 101\n",
      "INFO:tensorflow:global_step/sec: 232.293\n",
      "INFO:tensorflow:loss = 0.00523746, step = 201\n",
      "INFO:tensorflow:global_step/sec: 222.852\n",
      "INFO:tensorflow:loss = 0.00308377, step = 301\n",
      "INFO:tensorflow:global_step/sec: 221.96\n",
      "INFO:tensorflow:loss = 0.00336958, step = 401\n",
      "INFO:tensorflow:global_step/sec: 214.658\n",
      "INFO:tensorflow:loss = 0.00279854, step = 501\n",
      "INFO:tensorflow:global_step/sec: 198.507\n",
      "INFO:tensorflow:loss = 0.00239536, step = 601\n",
      "INFO:tensorflow:global_step/sec: 235.11\n",
      "INFO:tensorflow:loss = 0.00155067, step = 701\n",
      "INFO:tensorflow:global_step/sec: 234.653\n",
      "INFO:tensorflow:loss = 0.00157833, step = 801\n",
      "INFO:tensorflow:global_step/sec: 204.6\n",
      "INFO:tensorflow:loss = 0.00120256, step = 901\n",
      "INFO:tensorflow:global_step/sec: 205.953\n",
      "INFO:tensorflow:loss = 0.000943568, step = 1001\n",
      "INFO:tensorflow:global_step/sec: 220.453\n",
      "INFO:tensorflow:loss = 0.000876339, step = 1101\n",
      "INFO:tensorflow:global_step/sec: 221.479\n",
      "INFO:tensorflow:loss = 0.000911509, step = 1201\n",
      "INFO:tensorflow:global_step/sec: 196.529\n",
      "INFO:tensorflow:loss = 0.000629159, step = 1301\n",
      "INFO:tensorflow:global_step/sec: 212.558\n",
      "INFO:tensorflow:loss = 0.000686743, step = 1401\n",
      "INFO:tensorflow:global_step/sec: 212.959\n",
      "INFO:tensorflow:loss = 0.000698992, step = 1501\n",
      "INFO:tensorflow:global_step/sec: 224.379\n",
      "INFO:tensorflow:loss = 0.000569221, step = 1601\n",
      "INFO:tensorflow:global_step/sec: 206.306\n",
      "INFO:tensorflow:loss = 0.000498735, step = 1701\n",
      "INFO:tensorflow:global_step/sec: 224.091\n",
      "INFO:tensorflow:loss = 0.000503566, step = 1801\n",
      "INFO:tensorflow:global_step/sec: 176.59\n",
      "INFO:tensorflow:loss = 0.000373, step = 1901\n",
      "INFO:tensorflow:global_step/sec: 220.858\n",
      "INFO:tensorflow:loss = 0.000287493, step = 2001\n",
      "INFO:tensorflow:global_step/sec: 195.514\n",
      "INFO:tensorflow:loss = 0.000209309, step = 2101\n",
      "INFO:tensorflow:global_step/sec: 224.015\n",
      "INFO:tensorflow:loss = 0.000323008, step = 2201\n",
      "INFO:tensorflow:global_step/sec: 195.972\n",
      "INFO:tensorflow:loss = 0.00015437, step = 2301\n",
      "INFO:tensorflow:global_step/sec: 219.664\n",
      "INFO:tensorflow:loss = 0.000121245, step = 2401\n",
      "INFO:tensorflow:global_step/sec: 216.561\n",
      "INFO:tensorflow:loss = 0.000165566, step = 2501\n",
      "INFO:tensorflow:global_step/sec: 233.534\n",
      "INFO:tensorflow:loss = 0.000130429, step = 2601\n",
      "INFO:tensorflow:global_step/sec: 230.028\n",
      "INFO:tensorflow:loss = 0.000143373, step = 2701\n",
      "INFO:tensorflow:global_step/sec: 236.298\n",
      "INFO:tensorflow:loss = 0.000118591, step = 2801\n",
      "INFO:tensorflow:global_step/sec: 202.394\n",
      "INFO:tensorflow:loss = 6.92828e-05, step = 2901\n",
      "INFO:tensorflow:Saving checkpoints for 3000 into Models/model_2/model.ckpt.\n",
      "INFO:tensorflow:Loss for final step: 8.82684e-05.\n",
      "Mean Square Error is: 0.009076\n"
     ]
    }
   ],
   "source": [
    "# 封装之前定义的lstm。\n",
    "regressor = SKCompat(learn.Estimator(model_fn=lstm_model,model_dir=\"Models/model_2\"))\n",
    "\n",
    "# 生成数据。\n",
    "test_start = TRAINING_EXAMPLES * SAMPLE_GAP\n",
    "test_end = (TRAINING_EXAMPLES + TESTING_EXAMPLES) * SAMPLE_GAP\n",
    "train_X, train_y = generate_data(np.sin(np.linspace(\n",
    "    0, test_start, TRAINING_EXAMPLES, dtype=np.float32)))\n",
    "test_X, test_y = generate_data(np.sin(np.linspace(\n",
    "    test_start, test_end, TESTING_EXAMPLES, dtype=np.float32)))\n",
    "\n",
    "# 拟合数据。\n",
    "regressor.fit(train_X, train_y, batch_size=BATCH_SIZE, steps=TRAINING_STEPS)\n",
    "\n",
    "# 计算预测值。\n",
    "predicted = [[pred] for pred in regressor.predict(test_X)]\n",
    "\n",
    "# 计算MSE。\n",
    "rmse = np.sqrt(((predicted - test_y) ** 2).mean(axis=0))\n",
    "print (\"Mean Square Error is: %f\" % rmse[0])"
   ]
  },
  {
   "cell_type": "markdown",
   "metadata": {},
   "source": [
    "#### 5. 画出预测值和真实值的曲线。"
   ]
  },
  {
   "cell_type": "code",
   "execution_count": 6,
   "metadata": {
    "collapsed": false
   },
   "outputs": [
    {
     "data": {
      "image/png": "[encoded data removed]",
      "text/plain": [
       "<matplotlib.figure.Figure at 0x11a5600d0>"
      ]
     },
     "metadata": {},
     "output_type": "display_data"
    }
   ],
   "source": [
    "plot_predicted, = plt.plot(predicted, label='predicted')\n",
    "plot_test, = plt.plot(test_y, label='real_sin')\n",
    "plt.legend([plot_predicted, plot_test],['predicted', 'real_sin'])\n",
    "plt.show()"
   ]
  }
 ],
 "metadata": {
  "kernelspec": {
   "display_name": "Python 2",
   "language": "python",
   "name": "python2"
  },
  "language_info": {
   "codemirror_mode": {
    "name": "ipython",
    "version": 2
   },
   "file_extension": ".py",
   "mimetype": "text/x-python",
   "name": "python",
   "nbconvert_exporter": "python",
   "pygments_lexer": "ipython2",
   "version": "2.7.10"
  }
 },
 "nbformat": 4,
 "nbformat_minor": 1
}
